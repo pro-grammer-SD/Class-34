{
 "cells": [
  {
   "cell_type": "markdown",
   "id": "326a6df6",
   "metadata": {},
   "source": [
    "# Draw a rectangle in pygame"
   ]
  },
  {
   "cell_type": "code",
   "execution_count": 4,
   "id": "dabc8320",
   "metadata": {},
   "outputs": [],
   "source": [
    "import pygame\n",
    "pygame.init()\n",
    "\n",
    "screen = pygame.display.set_mode((400, 300))\n",
    "pygame.display.set_caption(\"Hello Pygame\")\n",
    "rect = pygame.Rect(10,20,30,40)\n",
    "pygame.draw.rect(screen, (100,200,120), rect, width=1)\n",
    "pygame.display.flip()\n",
    "\n",
    "running = True\n",
    "while running:\n",
    "    for event in pygame.event.get():\n",
    "        if event.type == pygame.QUIT:\n",
    "            running = False\n",
    "\n",
    "pygame.quit()\n"
   ]
  },
  {
   "cell_type": "markdown",
   "id": "d0c4d330",
   "metadata": {},
   "source": [
    "# Hollow and Solid ball in pygame"
   ]
  },
  {
   "cell_type": "code",
   "execution_count": 9,
   "id": "9a94440b",
   "metadata": {},
   "outputs": [],
   "source": [
    "import pygame\n",
    "\n",
    "pygame.init()\n",
    "\n",
    "screen = pygame.display.set_mode((400, 300))\n",
    "pygame.display.set_caption(\"Hello Pygame\")\n",
    "pygame.draw.circle(screen, (20,70,100), (100,200), 20, width=1)\n",
    "pygame.draw.circle(screen, (200,10,100), (40,70), 20, width=0)\n",
    "pygame.display.flip()\n",
    "\n",
    "running = True\n",
    "while running:\n",
    "    for event in pygame.event.get():\n",
    "        if event.type == pygame.QUIT:\n",
    "            running = False\n",
    "\n",
    "pygame.quit()\n"
   ]
  },
  {
   "cell_type": "markdown",
   "id": "a8f767cc",
   "metadata": {},
   "source": [
    "# Color chaning sprite"
   ]
  },
  {
   "cell_type": "code",
   "execution_count": null,
   "id": "fa1a82ac",
   "metadata": {},
   "outputs": [],
   "source": [
    "import pygame\n",
    "import sys\n",
    "from random import randint\n",
    "\n",
    "pygame.init()\n",
    "screen = pygame.display.set_mode((800, 600))\n",
    "pygame.display.set_caption(\"Bounce Color Box\")\n",
    "\n",
    "clock = pygame.time.Clock()\n",
    "rect = pygame.Rect(100, 100, 50, 50)\n",
    "rect_speed = [5, 3]\n",
    "\n",
    "def random_color():\n",
    "    return randint(0, 255), randint(0, 255), randint(0, 255)\n",
    "\n",
    "color = random_color()\n",
    "\n",
    "while True:\n",
    "    for event in pygame.event.get():\n",
    "        if event.type == pygame.QUIT:\n",
    "            pygame.quit()\n",
    "            sys.exit()\n",
    "\n",
    "    rect.x += rect_speed[0]\n",
    "    rect.y += rect_speed[1]\n",
    "\n",
    "    if rect.left <= 0 or rect.right >= 800:\n",
    "        rect_speed[0] = -rect_speed[0]\n",
    "        color = random_color()\n",
    "    if rect.top <= 0 or rect.bottom >= 600:\n",
    "        rect_speed[1] = -rect_speed[1]\n",
    "        color = random_color()\n",
    "\n",
    "    screen.fill((30, 30, 30))\n",
    "    pygame.draw.rect(screen, color, rect)\n",
    "    pygame.display.flip()\n",
    "    clock.tick(60)\n"
   ]
  }
 ],
 "metadata": {
  "kernelspec": {
   "display_name": "Python 3",
   "language": "python",
   "name": "python3"
  },
  "language_info": {
   "codemirror_mode": {
    "name": "ipython",
    "version": 3
   },
   "file_extension": ".py",
   "mimetype": "text/x-python",
   "name": "python",
   "nbconvert_exporter": "python",
   "pygments_lexer": "ipython3",
   "version": "3.13.0"
  }
 },
 "nbformat": 4,
 "nbformat_minor": 5
}
